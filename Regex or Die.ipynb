{
    "cells": [
        {
            "metadata": {
                "collapsed": true
            },
            "cell_type": "markdown",
            "source": "## Regex or Die!"
        },
        {
            "metadata": {},
            "cell_type": "markdown",
            "source": "Snipped of code pulled from a tutorial to help understand the basic process of writing a regular expression and extracting the text you're after.\n\n"
        },
        {
            "metadata": {},
            "cell_type": "code",
            "source": "#bring in the regular expression library\n\nimport re\nimport pandas as pd\nfrom urllib.request import urlopen",
            "execution_count": 1,
            "outputs": []
        },
        {
            "metadata": {},
            "cell_type": "markdown",
            "source": "![alt text](https://i0.wp.com/we-make-money-not-art.com/wow/eaf1d2f26ac.jpg?w=940, \"1984\")"
        },
        {
            "metadata": {},
            "cell_type": "code",
            "source": "#use urlopen function to retrieve txt file of your favourite book \ntextpage = urlopen('http://gutenberg.net.au/ebooks01/0100021.txt')\n\n#convert imported book into a readable format\nbook = str(textpage.read(),'utf-8')",
            "execution_count": 2,
            "outputs": []
        },
        {
            "metadata": {},
            "cell_type": "code",
            "source": "#search for the name of the main character\nregex = re.compile('Winston')\n\n#execute the regex search, return a list with the name 'Winston'\nfinder = re.findall(regex, book)\n\n#print number of instances this regex shows up in the book 1984\ncount = 0\nfor i in finder:\n    count += 1\nprint(count)   ",
            "execution_count": 12,
            "outputs": [
                {
                    "output_type": "stream",
                    "text": "527\n",
                    "name": "stdout"
                }
            ]
        },
        {
            "metadata": {},
            "cell_type": "code",
            "source": "#find last name of main character, knowing his first name is Winston\nregex1 = re.compile('Winston\\s[A-Z]\\w+')\n                    \n#execute the regex search\nfinder1 = re.findall(regex1, book)\n\n#print the results of finder 1\nprint(finder1)",
            "execution_count": 28,
            "outputs": [
                {
                    "output_type": "stream",
                    "text": "['Winston Smith', 'Winston Smith', 'Winston Smith', 'Winston Smith', 'Winston Smith']\n",
                    "name": "stdout"
                }
            ]
        },
        {
            "metadata": {
                "scrolled": true
            },
            "cell_type": "code",
            "source": "#print the results of finder1 in a nicer format\nif(finder1):\n    for i in finder1:\n        print(i)\nelse:\n    print(\"Nothing Found\")",
            "execution_count": 29,
            "outputs": [
                {
                    "output_type": "stream",
                    "text": "Winston Smith\nWinston Smith\nWinston Smith\nWinston Smith\nWinston Smith\n",
                    "name": "stdout"
                }
            ]
        },
        {
            "metadata": {},
            "cell_type": "code",
            "source": "#try to find the names of different characters in the book, only return the name if it's greater than 6 characters\n\nregex2 = re.compile('([A-Z]\\w{5,10})\\swas')\n\n#execute the regex search\nfinder2 = re.findall(regex2, book)\n\nif(finder2):\n    count = 0\n    for i in finder2:\n        print(i)\n        count += 1\nelse:\n    print(\"Nothing Found\")",
            "execution_count": 66,
            "outputs": [
                {
                    "output_type": "stream",
                    "text": "Newspeak\nWinston\nWinston\nWinston\nGoldstein\nGoldstein\nGoldstein\nOceania\nGoldstein\nGoldstein\nBrother\nBrotherhood\nVAPORIZED\nBROTHER\nParsons\nWinston\nNothing\nWinston\nWinston\nOceania\nOceania\nWhatever\nTillotson\nWinston\nWinston\nTillotson\nTillotson\nBrother\nWithers\nTillotson\nOrthodoxy\nWinston\nWinston\nWinston\nKatharine\nChastity\nDesire\nLondon\nWinston\nOceania\nCentre\nLottery\nLottery\nRevolution\nWinston\nWhatever\nParsons\nWinston\nTonight\nWinston\nWinston\nWinston\nWinston\nRevolution\nGoldstein\nBrotherhood\nGoldstein\nNothing\nWinston\nWinston\nGelatinous\nOceania\nOceania\nEurasia\nWinston\nOceania\nOceania\nInequality\nSomething\nSomeone\nWinston\nCharrington\nAmpleforth\nWinston\nParsons\nWinston\nEverything\nOceania\nWinston\nWinston\nWinston\nWinston\nSanity\nOceania\nEverything\nStupidity\nEverything\nWinston\nOceania\nSomething\nNewspeak\nNewspeak\nNewspeak\nNewspeak\nOLDTHINK\nDictionary\nDepartment\nDepartment\nDUCKSPEAK\nOldspeak\n",
                    "name": "stdout"
                }
            ]
        },
        {
            "metadata": {},
            "cell_type": "code",
            "source": "#return all of the times a year was given in the book\nregex3 = re.compile('\\s(\\d{4})\\s')\n\n#execute the regex search\nfinder3 = re.findall(regex3, book)\n\nif(finder2):\n    count = 0\n    for i in finder3:\n        print(i)\n        count += 1\nelse:\n    print(\"Nothing Found\")",
            "execution_count": 67,
            "outputs": [
                {
                    "output_type": "stream",
                    "text": "2001\n2008\n1944\n1930\n1984\n1983\n1970\n1965\n1925\n1920\n1900\n1984\n1960\n",
                    "name": "stdout"
                }
            ]
        },
        {
            "metadata": {},
            "cell_type": "code",
            "source": "new_df = pd.Series(finder3)\nnew_df",
            "execution_count": 77,
            "outputs": [
                {
                    "output_type": "execute_result",
                    "execution_count": 77,
                    "data": {
                        "text/plain": "0     2001\n1     2008\n2     1944\n3     1930\n4     1984\n5     1983\n6     1970\n7     1965\n8     1925\n9     1920\n10    1900\n11    1984\n12    1960\ndtype: object"
                    },
                    "metadata": {}
                }
            ]
        }
    ],
    "metadata": {
        "kernelspec": {
            "name": "python3",
            "display_name": "Python 3.6",
            "language": "python"
        },
        "language_info": {
            "name": "python",
            "version": "3.6.8",
            "mimetype": "text/x-python",
            "codemirror_mode": {
                "name": "ipython",
                "version": 3
            },
            "pygments_lexer": "ipython3",
            "nbconvert_exporter": "python",
            "file_extension": ".py"
        }
    },
    "nbformat": 4,
    "nbformat_minor": 1
}